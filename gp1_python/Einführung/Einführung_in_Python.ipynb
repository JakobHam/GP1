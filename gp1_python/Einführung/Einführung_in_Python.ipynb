{
 "cells": [
  {
   "attachments": {},
   "cell_type": "markdown",
   "metadata": {},
   "source": [
    "# Einführung in Python\n",
    "\n",
    "Dieses Notebook dient als Vorbereitung für die Datenauswertung und der Inhalt wird im gesamten Grundpraktikum benötigt.\n",
    "\n",
    "In diesem Notebook lernen Sie **Python-Programme** zu **verstehen**, mit **Variablen**, **Datenstrukturen** und **Funktionen umzugehen** und **externe Module** zu **verwenden**.\n",
    "\n",
    "Das Notebook ist so aufgebaut, dass zuerst neues Wissen in einer Text-Zelle eingeführt und dann in einer Code-Zelle beispielhaft dargestellt wird. Anschließend sollen Sie das Gelernte in einer weiteren Code-Zelle anhand einer Aufgabe anwenden. \n",
    "\n",
    "Dieses Notebook orientiert sich an dem Buch *[Mit Jupyter durchs Physikpraktikum](https://link.springer.com/book/10.1007/978-3-658-37723-6)* von Lew Classen (2022).\n",
    "\n"
   ]
  },
  {
   "cell_type": "markdown",
   "metadata": {
    "jp-MarkdownHeadingCollapsed": true
   },
   "source": [
    "# 1 Jupyter-Notebooks\n",
    "\n",
    "Jupyter-Notebooks bieten eine interaktive Entwicklungsumgebung zur Programmierung, Datenanalyse und Datenvisualisierung. \n",
    "\n",
    "Es gibt zwei Möglichkeiten, diese Notebooks auszuführen und zu bearbeiten:\n",
    "1. Online in der JupyterHub-Erweiterung in OpenOLAT. Das ist die empfohlene Vorgehensweise.\n",
    "2. Offline mit einer Python-Distribution, zB Anaconda.\n",
    "\n",
    "Die Notebooks bestehen aus Text- und Code-Zellen. Die Text-Zellen (wie diese Zelle) beinhalten *Markdown*. *Markdown* ist eine vereinfachte Auszeichnungssprache, die eine einfache Möglichkeit bietet, strukturierten Text mit Formeln (*LaTeX*), Code- und HTML-Elementen zu verbinden. Sie können sich den Quelltext dieser Zelle mit einem Doppelklick auf diese Zelle oder `Enter` anzeigen lassen und bearbeiten. Zur Übersetzung der Zelle können Sie entweder auf das ✓-Symbol oben rechts an der Ecke der Zelle klicken oder die Tastenkombination `Strg`+`Alt`+`Enter` (`Control`+`Enter` bie *macOS*) verwenden. Für das Schreiben in Markdown kann Ihnen das *[Cheat Sheet](https://www.markdownguide.org/cheat-sheet/)* helfen.\n",
    "\n",
    "Indem Sie mit der Maus über das untere oder obere Ende der Zelle schweben, wird eine Option zum Einfügen von Text- sowie Code-Zellen angezeigt. Das Einfügen von Zellen wird im weiteren Verlauf wichtig. Zellen können über das 🗑-Symbol in der Menüleiste jeder Zelle (rechte obere Ecke der Zelle) gelöscht werden.\n",
    "\n",
    "In den Code-Zellen wird abhängig von der gewählten Programmiersprache (hier Python) der Code übersetzt und ausgeführt. Code-Zellen lassen sich mit dem ▶-Symbol oben links neben Zelle oder der Tastenkombination `Strg`+`Alt`+`Enter` (`Control`+`Enter` bie *macOS*) ausführen. Das Symbol wird nur angezeigt, wenn die Zelle ausgewählt ist oder die Maus darüber schwebt. Die Ausgabe des Codes wird unterhalb der Zelle angezeigt.\n",
    "\n",
    "Über die Menüleiste am oberen Rand des Fensters können ebenfalls Code- und Text-Zellen eingefügt werden. In der Menüleiste gibt es zusätzlich noch weitere sinnvolle Funktionen. Mit *Run All* werden alle Zellen des Notebooks nacheinander ausgeführt. Mit *Restart* wird die Python-Entwicklungsumgebung (der Kernel) neugestartet. Mit *Clear All Outputs* werden alle Ausgaben der Code-Zellen ausgeblendet. *Variables* ist ein Werkzeug zur Überprüfung der aktuellen Werte und Typen aller Variablen des Notebooks und *Outline* zeigt Ihnen eine Art Inhaltsverzeichnis im Explorer (links) an."
   ]
  },
  {
   "cell_type": "markdown",
   "metadata": {},
   "source": [
    "# 2 Grundlagen von Python\n",
    "\n",
    "## 2.1 Variablen und ihre Datentypen\n",
    "\n",
    "In Python können einfache Berechnungen direkt und ohne Variablen durchgeführt werden. Dabei wird der Code Zeile für Zeile ausgeführt.\n",
    "\n",
    "Führen Sie die folgenden Code-Zellen immer aus, damit die Ausgabe sichtbar wird. Sie können auch mit *Run all* alle Code-Zellen auf einmal ausführen.\n",
    "\n",
    "**Wichtig:** Versuchen Sie in allen Beispielen den Code nachzuvollziehen. Sie werden im Datenauswertungs-Notebook die Beispiele für die Erstellung Ihres eigenen Codes brauchen."
   ]
  },
  {
   "cell_type": "code",
   "execution_count": 1,
   "metadata": {},
   "outputs": [
    {
     "data": {
      "text/plain": [
       "3"
      ]
     },
     "execution_count": 1,
     "metadata": {},
     "output_type": "execute_result"
    }
   ],
   "source": [
    "1 + 2\n"
   ]
  },
  {
   "cell_type": "markdown",
   "metadata": {},
   "source": [
    "Möchte Sie jetzt mit dem Ergebnis weiterarbeiten, ohne jedes Mal die Zahlen neu eintippen zu müssen, lohnt sich die Verwendung von Variablen. So kann einer Variable (hier *x*) mit dem Gleichzeichen der Wert 3 zugewiesen werden. Variablennamen dürfen nicht mit einer Zahl beginnen und keine Sonderzeichen, außer _, enthalten. In der Regel beginnen Variablen mit einem kleinen Buchstaben.\n",
    "\n",
    "\n",
    "Beispiele für Variablennamen sind:\n",
    "- x\n",
    "- test_1\n",
    "- spannung\n",
    "- x_Test\n",
    " \n",
    "\n",
    "**Vorsicht:** Bei uneindeutigen Variablennamen steigt das Riskio Variablen ausversehen zu überschreiben.\n",
    "\n",
    "Kommentare (mit # gekennzeichnet) werden bei der Übersetzung ignoriert und können bei der Beschreibung und Lesbarkeit des Codes helfen. Sie sollten bei längerem, unübersichtlichem Code dringend verwendet werden."
   ]
  },
  {
   "cell_type": "code",
   "execution_count": 2,
   "metadata": {},
   "outputs": [
    {
     "data": {
      "text/plain": [
       "3"
      ]
     },
     "execution_count": 2,
     "metadata": {},
     "output_type": "execute_result"
    }
   ],
   "source": [
    "x = 3   # Deklaration einer Variable\n",
    "\n",
    "x       # Ausgabe der Variable"
   ]
  },
  {
   "cell_type": "markdown",
   "metadata": {},
   "source": [
    "Variablen werden für das gesamte Notebook deklariert und können danach in jeder Code-Zelle verwendet werden."
   ]
  },
  {
   "cell_type": "code",
   "execution_count": 3,
   "metadata": {},
   "outputs": [
    {
     "data": {
      "text/plain": [
       "3"
      ]
     },
     "execution_count": 3,
     "metadata": {},
     "output_type": "execute_result"
    }
   ],
   "source": [
    "x"
   ]
  },
  {
   "cell_type": "markdown",
   "metadata": {},
   "source": [
    "In Python wird immer nur die letzte Variable ohne weiteres ausgegeben. Möchte man nun mehrere Variablen ausgegeben bekommen, wird die Funktion `print()` verwendet. `print()` ist eine eigene Funktion von Python, die den Inhalt, der ihr übergeben wird, in die Ausgabe *druckt*. Im folgenden Beispiel werden jeweils die Variablen als Inhalt übergeben. Der Funktion können auch mehrere Argumente auf einmal übergeben werden. Diese müssen mit einem Komma getrennt werden.\n",
    "\n",
    "**Hinweis:** Mit letzter Variable ist die Variable gemeint, die am Ende des Codes (also als letztes) ausgeführt wird."
   ]
  },
  {
   "cell_type": "code",
   "execution_count": 4,
   "metadata": {},
   "outputs": [
    {
     "name": "stdout",
     "output_type": "stream",
     "text": [
      "3\n",
      "4\n",
      "3 Test\n"
     ]
    },
    {
     "data": {
      "text/plain": [
       "4"
      ]
     },
     "execution_count": 4,
     "metadata": {},
     "output_type": "execute_result"
    }
   ],
   "source": [
    "x = 3\n",
    "y = 4\n",
    "\n",
    "print(x)\n",
    "print(y)\n",
    "y       # wird nicht ausgegeben, da noch Code folgt\n",
    "\n",
    "print(x, \"Test\")\n",
    "\n",
    "x\n",
    "y      # wird ausgegeben, da kein Code mehr folgt"
   ]
  },
  {
   "cell_type": "markdown",
   "metadata": {},
   "source": [
    "Neben ganzen Zahlen können auch Fließkommazahlen, Zeichenketten und Wahrheitswerte gespeichert werden. Diese Formen von Daten nennt man Typen. In Python gibt es noch einige weitere Datentypen. Diese können Sie hier finden: [Built-in Types](https://docs.python.org/3.10/library/stdtypes.html)\n",
    "\n",
    "Mit der Funktion `type()` kann der Datentyp einer Variable bestimmt werden.\n",
    "\n",
    "**Hinweis:** In Python werden **Punkte** als Dezimalzeichen verwendet, **keine** Kommata!"
   ]
  },
  {
   "cell_type": "code",
   "execution_count": 5,
   "metadata": {},
   "outputs": [
    {
     "name": "stdout",
     "output_type": "stream",
     "text": [
      "<class 'int'> <class 'type'>\n",
      "<class 'float'> <class 'type'>\n",
      "Hello World! <class 'str'>\n",
      "True <class 'bool'>\n",
      "[1, 2] <class 'list'>\n"
     ]
    }
   ],
   "source": [
    "# ganze Zahlen (integer/int)\n",
    "int_var = 1\n",
    "print(int, type(int))\n",
    "\n",
    "# Fließkommazahlen (float)\n",
    "float_var = 0.12\n",
    "print(float, type(float))\n",
    "\n",
    "# Zeichenketten (string/str)\n",
    "string = \"Hello World!\"\n",
    "print(string, type(string))\n",
    "\n",
    "# Wahrheitsvariable (bool)\n",
    "bool = True\n",
    "print(bool, type(bool))\n",
    "\n",
    "# Liste (list)\n",
    "list = [1, 2]\n",
    "print(list, type(list))"
   ]
  },
  {
   "cell_type": "markdown",
   "metadata": {},
   "source": [
    "## 2.2 Operatoren\n",
    "\n",
    "Zur Verwendung von Variablen werden jetzt noch Operatoren benötigt. Zur mathematischen Berechnung stehen Ihnen die folgenden **arithmetischen Operatoren** zur Verfügung:\n",
    "\n",
    "```py\n",
    "a + b   # Addition\n",
    "a - b   # Subtraktion\n",
    "a * b   # Multplikation\n",
    "a / b   # Division\n",
    "a**2    # Potenzieren\n",
    "```\n",
    "\n",
    "Mit Klammern können Berechnungen wie beim Taschenrechner verschachtelt werden. \n",
    "\n",
    "Es können auch *strings* miteinander addiert und so zu einem *string* zusammengefügt werden."
   ]
  },
  {
   "cell_type": "code",
   "execution_count": 6,
   "metadata": {},
   "outputs": [
    {
     "name": "stdout",
     "output_type": "stream",
     "text": [
      "3 4\n",
      "81\n",
      "Hallo ich heiße Max Mustermann\n"
     ]
    }
   ],
   "source": [
    "x = 3\n",
    "y = 4\n",
    "\n",
    "print(x,y)\n",
    "print(x**y)\n",
    "\n",
    "name = \"Max Mustermann\"\n",
    "\n",
    "print(\"Hallo ich heiße \" + name)"
   ]
  },
  {
   "cell_type": "markdown",
   "metadata": {},
   "source": [
    "---"
   ]
  },
  {
   "cell_type": "markdown",
   "metadata": {},
   "source": [
    "*strings* und *integer* können durch eine sogenannte Typumwandlung miteinander kombiniert werden. Dabei wird ein *integer* (oder *float*) in einen *string* konvertiert und dann als Zeichen an den bestehenden *string* angehängt. Die Funktion zur Typumwandlung ist gelichnamig zum gewünschten Datentyp. In diesem Fall `str()`. \n",
    "\n",
    "**Vorsicht:** Es können nicht alle Datentypen zu jeglichen anderen Datentypen konvertiert werden."
   ]
  },
  {
   "cell_type": "code",
   "execution_count": 7,
   "metadata": {},
   "outputs": [
    {
     "name": "stdout",
     "output_type": "stream",
     "text": [
      "Ich bin im Jahr 2003 geboren.\n"
     ]
    }
   ],
   "source": [
    "geburtsjahr = 2003\n",
    "\n",
    "print(\"Ich bin im Jahr \" + str(geburtsjahr) + \" geboren.\")\n"
   ]
  },
  {
   "cell_type": "markdown",
   "metadata": {},
   "source": [
    "## 2.3 Listen\n",
    "\n",
    "Die Liste ist ein Datentyp, der aus mehreren Elementen besteht. Wie oben bereits bei der Auflistung der Datentypen gezeigt, wird eine Liste wie folgt deklariert:\n",
    "\n",
    "```py\n",
    "liste = [eintrag_0, eintrag_1, eintrag_2, ...]\n",
    "```\n",
    "\n",
    "Möchten Sie jetzt einzelne Einträge der Liste erreichen, können Sie die Liste zusammen mit dem gewünschten Index (Stelle des Eintrags in der Liste) in einer eckigen Klammer aufrufen. \n",
    "\n",
    "Die Struktur von Listen wird in der nachfolgenden Abbildung verdeutlicht.\n",
    "\n",
    "**Wichtig:** Der erste Eintrag einer Liste befindet sich bei Index 0, der Zweite bei Index 1 und so weiter."
   ]
  },
  {
   "attachments": {
    "image.png": {
     "image/png": "[encoded data removed]"
    }
   },
   "cell_type": "markdown",
   "metadata": {},
   "source": [
    "![image.png](attachment:image.png)"
   ]
  },
  {
   "cell_type": "code",
   "execution_count": 8,
   "metadata": {},
   "outputs": [
    {
     "name": "stdout",
     "output_type": "stream",
     "text": [
      "[1, 2, 3, 4, 5, 6]\n",
      "3\n",
      "4\n"
     ]
    }
   ],
   "source": [
    "liste = [1, 2, 3, 4, 5, 6]\n",
    "\n",
    "element_2 = liste[2]     # speichert in test das Element bei Index 2 (3. Element)\n",
    "element_3 = liste[3]\n",
    "\n",
    "print(liste)\n",
    "print(element_2)\n",
    "print(element_3)"
   ]
  },
  {
   "cell_type": "markdown",
   "metadata": {},
   "source": [
    "Sollen mehrere Einträge auf einmal aufgerufen werden, kann folgende [Syntax](https://de.wikipedia.org/wiki/Syntax) verwendet werden:\n",
    "\n",
    "```py\n",
    "liste[Start_Index:Ende_Index]\n",
    "```\n",
    "\n",
    "Das Prozedere nennt man *slicing*. Der Wert an der Stelle von *Start* ist inbegriffen, der Wert an der Stelle von *Ende* wird jedoch ausgeschlossen."
   ]
  },
  {
   "cell_type": "code",
   "execution_count": 9,
   "metadata": {},
   "outputs": [
    {
     "name": "stdout",
     "output_type": "stream",
     "text": [
      "[2, 3, 4, 5]\n"
     ]
    }
   ],
   "source": [
    "liste = [1, 2, 3, 4, 5, 6]\n",
    "\n",
    "print(liste[1:5])     "
   ]
  },
  {
   "cell_type": "markdown",
   "metadata": {},
   "source": [
    "Es gibt einige wichtige in Python eingebaute Funktionen für den Umgang mit Listen. Zwei davon sind `len()` (gibt die Länge einer Liste aus) und `sum()` (summiert alle Einträge einer Liste). Alle Python internen Funktionen finden Sie hier: [Built-in Functions](https://docs.python.org/3/library/functions.html)"
   ]
  },
  {
   "cell_type": "code",
   "execution_count": 10,
   "metadata": {},
   "outputs": [
    {
     "name": "stdout",
     "output_type": "stream",
     "text": [
      "6\n",
      "21\n"
     ]
    }
   ],
   "source": [
    "liste = [1, 2, 3, 4, 5, 6]\n",
    "\n",
    "\n",
    "print(len(liste))\n",
    "print(sum(liste))\n"
   ]
  },
  {
   "cell_type": "markdown",
   "metadata": {},
   "source": [
    "Listen bieten sich zur Speicherung von Messwerten an. Mit einem Modul, welches Sie sich später noch anschauen, können dann Berechnungen direkt auf allen Einträgen der Liste durchgeführt werden."
   ]
  },
  {
   "cell_type": "markdown",
   "metadata": {},
   "source": [
    "<div class=\"alert alert-block alert-danger\">\n",
    "   <H3>Listen verhalten sich nicht wie Vektoren !</H3> <br>\n",
    "Die Operatoren +,-,* sind für Listen zwar definiert, sie entsprechen aber keinen mathematisch sinnvollen Vektoroperationen:#\n",
    "</div>\n",
    "\n"
   ]
  },
  {
   "cell_type": "code",
   "execution_count": 11,
   "metadata": {},
   "outputs": [
    {
     "name": "stdout",
     "output_type": "stream",
     "text": [
      "Die Summe von Listen ist die Aneinanderreihung: \n",
      "[0, 1, 2, 3, 10, 11, 12, 13]\n"
     ]
    }
   ],
   "source": [
    "liste1 = [0,1,2,3]\n",
    "liste2 = [10,11,12,13]\n",
    "print('Die Summe von Listen ist die Aneinanderreihung: ')\n",
    "print(liste1 + liste2)"
   ]
  },
  {
   "cell_type": "markdown",
   "metadata": {},
   "source": [
    "---"
   ]
  },
  {
   "cell_type": "markdown",
   "metadata": {},
   "source": [
    "# 3 Python im Grundpraktikum: \n",
    "\n",
    "Module erweitern Python mit wichtigen Funktionen und Datenstrukturen. Sie werden in diesem Versuch Module zur Berechnung und Darstellung von Messwerten, zum Fitten von Messpunkten und für den Umgang mit Unsicherheiten kennenlernen. Es gibt jedoch für alle erdenklichen Anwendungsfälle Module. <br> \n",
    "\n",
    "Pakete bestehen aus mehreren Modulen. Bei der Verwendung ist die Unterscheidung zwischen Paketen und Modulen vorerst unwichtig. Im Laufe des Versuchs wird primär der Begriff Modul verwendet, außer es handelt sich explizit um Pakete.\n",
    "\n",
    "Zur Verwendung müssen Module und Pakete zuerst in Anaconda installiert und anschließend in das Notebook importiert werden. Anaconda hat viele vorinstallierte Module und weitere können über den Anaconda-Navigator installiert werden. Dazu später mehr. \n",
    "\n",
    "## 3.1 Rechnen mit Python (numpy)\n",
    "\n",
    "Das Modul, welches wir uns zur Einführung anschauen, ist *numpy* und macht aus Python einen voll funktionsfähigen Taschenrechner. Es liefert wichtige Funktionen und Datenstrukturen sowie wichtige Konstanten für mathematische Berechnungen.\n",
    "\n",
    "Module werden in der Regel mit der folgenden Syntax importiert:\n",
    "\n",
    "```py\n",
    "import modulname as alias\n",
    "```\n",
    "Als *alias* kann eine Abkürzung verwendet werden, über die dann Funktionen und Konstanten des Moduls aufgerufen werden können. Funktionen eines Moduls werden mit der folgenden Syntax aufgerufen:\n",
    "\n",
    "\n",
    "```py\n",
    "alias.funktionsname(Argumente)\n",
    "```\n",
    "Die für das Grunpraltikum wichtigste Bibliotheken sind:\n",
    "\n",
    "`numpy` - Lineare Algebra und andere mathematische Funktionen\n",
    "\n",
    "`scipy` - Wissenschaftliche Algorithmen und Naturkonstanten\n",
    "\n",
    "`matplotlib` - Erstellung von Grafiken\n",
    "\n",
    "Die im Grundpraktikum benötigten Funktionen können mit folgenden Zeilen importiert werden:"
   ]
  },
  {
   "cell_type": "code",
   "execution_count": 12,
   "metadata": {},
   "outputs": [],
   "source": [
    "# Diese Zelle wird in jedem Auswerteskript benötigt !\n",
    "import numpy as np\n",
    "import matplotlib.pyplot as plt\n",
    "import scipy.constants as const"
   ]
  },
  {
   "cell_type": "code",
   "execution_count": 13,
   "metadata": {},
   "outputs": [
    {
     "name": "stdout",
     "output_type": "stream",
     "text": [
      "3.141592653589793\n",
      "7.38905609893065\n",
      "2.0\n",
      "1.0\n"
     ]
    }
   ],
   "source": [
    "print(np.pi)\n",
    "print(np.exp(2))        # e^2\n",
    "print(np.sqrt(4))       # Wurzel(4)\n",
    "print(np.sin(np.pi/2))  # sin(pi/2)\n",
    "\n"
   ]
  },
  {
   "cell_type": "markdown",
   "metadata": {},
   "source": [
    "Alle mathematischen Funktionen von *numpy* finden Sie hier: [Mathematical functions](https://numpy.org/doc/stable/reference/routines.math.html)\n",
    "\n",
    "## 3.2 Numpy Arrays\n",
    "\n",
    "Eine der wichtigsten Datenstrukturen die *numpy* liefert sind *numpy*-Arrays.Sie sind ähnlich zu Listen, die mathematischen Operatoren sind aber sinnvoll definiert.\n",
    "\n",
    "Eine Liste kann einfach in ein Array umgewandelt werden: \n",
    "```py\n",
    "name_array = np.array(Liste)\n",
    "```\n",
    "\n",
    "Elemente eines Arrays erhält man analog zu Elementen aus Listen: \n",
    "\n",
    "```py\n",
    "name_array[index]\n",
    "```\n",
    "\n",
    "Führt man nun Berechnungen mit diesen Arrays aus, wird das Ergebnis für jedes Element des Arrays berechnet. Das Ergebnis kann dann als Array in einer neuen Variable gespeichert werden. "
   ]
  },
  {
   "cell_type": "code",
   "execution_count": 14,
   "metadata": {},
   "outputs": [
    {
     "name": "stdout",
     "output_type": "stream",
     "text": [
      "Die Ausgabe von arrays unterscheidet sich nicht wesentlich von Listen!\n",
      "[1 2 3] [3 2 1]\n",
      "Die Summe und Multiplikation von zwei Arrays ist aber sinnvoll als elementweise Summe definiert:\n",
      "[4 4 4]\n",
      "[3 4 3]\n"
     ]
    }
   ],
   "source": [
    "liste = [3,2,1]\n",
    "\n",
    "array_1 = np.array([1,2,3])\n",
    "array_2 = np.array(liste)\n",
    "\n",
    "print('Die Ausgabe von arrays unterscheidet sich nicht wesentlich von Listen!')\n",
    "print(array_1,array_2)\n",
    "\n",
    "print('Die Summe und Multiplikation von zwei Arrays ist aber sinnvoll als elementweise Summe definiert:')\n",
    "print(array_1 + array_2) # Summe von zwei Arrays\n",
    "\n",
    "print(array_1 * array_2) # Multiplikation von zwei Arrays\n",
    "\n"
   ]
  },
  {
   "cell_type": "markdown",
   "metadata": {},
   "source": [
    "Weiters bietet *numpy* auch extra Methoden für den Umgang mit Arrays, die es einfach machen, Daten statistisch auszuwerten.\n",
    "\n",
    "```py\n",
    "array.min()     # Minimum\n",
    "array.max()     # Maximum\n",
    "array.sum()     # Summe\n",
    "array.mean()    # Mittelwert\n",
    "array.std()     # Standardabweichung\n",
    "\n",
    "```\n",
    "\n",
    "Alle *numpy*-Array-Methoden finden Sie hier: [numpy.ndarray](https://numpy.org/doc/stable/reference/generated/numpy.ndarray.html)."
   ]
  },
  {
   "cell_type": "code",
   "execution_count": 15,
   "metadata": {},
   "outputs": [
    {
     "name": "stdout",
     "output_type": "stream",
     "text": [
      "Das Minimum ist: 9.5\n",
      "Der Mittelwert ist: 10.325\n",
      "Die Standardabweichung ist: 0.6647367900154169\n"
     ]
    }
   ],
   "source": [
    "array1 = np.array([10.0, 10.5, 9.5 , 11.3])\n",
    "\n",
    "array_min = array1.min()\n",
    "print('Das Minimum ist: ' + str(array_min))\n",
    "\n",
    "array_mean = array1.mean()\n",
    "print('Der Mittelwert ist: ' + str(array_mean))\n",
    "\n",
    "array_std = array1.std()\n",
    "print('Die Standardabweichung ist: ' +str(array_std))"
   ]
  },
  {
   "cell_type": "markdown",
   "metadata": {},
   "source": [
    "## 3.3 Mehrdimensionale Arrays\n",
    "\n",
    "Es ist auch möglich mehrdimensionale Arrays zu definieren. Im Rahmen des Grundpraktikum, werden of 2D Arrays benötigt:"
   ]
  },
  {
   "cell_type": "code",
   "execution_count": 16,
   "metadata": {},
   "outputs": [
    {
     "name": "stdout",
     "output_type": "stream",
     "text": [
      "[[1.  2.  3.  4.  5.  6. ]\n",
      " [0.2 0.4 0.6 1.  1.5 2. ]\n",
      " [1.  1.  1.  1.  3.  1. ]]\n",
      "Anfangszeit: 1.0\n"
     ]
    }
   ],
   "source": [
    "Zeitliste = [1,2,3,4,5,6]\n",
    "Entfernungsliste = [0.2,0.4,0.6,1,1.5,2]\n",
    "Geschwindigkeitsliste = [1,1,1,1,3,1]\n",
    "\n",
    "\n",
    "alles_array = np.array([Zeitliste, Entfernungsliste, Geschwindigkeitsliste])\n",
    "print(alles_array)\n",
    "\n",
    "Anfangszeit = alles_array[0,0]\n",
    "print(\"Anfangszeit: \" + str(Anfangszeit))"
   ]
  },
  {
   "cell_type": "markdown",
   "metadata": {},
   "source": [
    "Ein mehrdimensionales Array kann auch mit Slices indiziert werden, um zB alle Entfernungsmesspunkte zu erhalten. Hierbei können alle Messpunkte (eine Achse des Arrays) mit dem Operator `:` indiziert werden:"
   ]
  },
  {
   "cell_type": "code",
   "execution_count": 17,
   "metadata": {},
   "outputs": [
    {
     "name": "stdout",
     "output_type": "stream",
     "text": [
      "[0.2 0.4 0.6 1.  1.5 2. ]\n"
     ]
    }
   ],
   "source": [
    "Entfernungen = alles_array[1,:]\n",
    "print(Entfernungen)"
   ]
  },
  {
   "cell_type": "markdown",
   "metadata": {},
   "source": [
    "---"
   ]
  },
  {
   "cell_type": "markdown",
   "metadata": {},
   "source": [
    "## 3.4. Naturkonstanten\n",
    "\n",
    "Das `scipy` Modul enthält neben nützlichen Funktionen für lineare Algebra und Funktionsanpassungen auch viele nützliche Naturkonstanten. Hier einige Beispiele und ein Link zu [allen Konstanten](https://docs.scipy.org/doc/scipy/reference/constants.html) :"
   ]
  },
  {
   "cell_type": "code",
   "execution_count": 18,
   "metadata": {},
   "outputs": [
    {
     "name": "stdout",
     "output_type": "stream",
     "text": [
      "1.25663706212e-06\n",
      "1.380649e-23\n",
      "(9.2740100783e-24, 'J T^-1', 2.8e-33)\n"
     ]
    }
   ],
   "source": [
    "import scipy.constants as const\n",
    "\n",
    "print(const.mu_0)\n",
    "print(const.Boltzmann)\n",
    "\n",
    "# Viele Konstanten können über das Dictionary const.physical_constants aufgerufen werden:\n",
    "print(const.physical_constants['Bohr magneton'])"
   ]
  },
  {
   "cell_type": "markdown",
   "metadata": {},
   "source": [
    "## 3.5. Darstellung von Grafiken\n",
    "\n",
    "Für die Erstellung von Grafiken wird das Modul `matplotlib` verwendet, das mit `import matplotlib.pyplot as plt` importiert wird. \n",
    "\n",
    "Ein einfaches $x$-$y$ Diagrams kann mit der Funktion `plt.plot(x,y)` erzeugt werden:"
   ]
  },
  {
   "cell_type": "code",
   "execution_count": 19,
   "metadata": {},
   "outputs": [
    {
     "data": {
      "text/plain": [
       "[<matplotlib.lines.Line2D at 0x7f6ade9c4e10>]"
      ]
     },
     "execution_count": 19,
     "metadata": {},
     "output_type": "execute_result"
    },
    {
     "data": {
      "image/png": "[encoded data removed]",
      "text/plain": [
       "<Figure size 640x480 with 1 Axes>"
      ]
     },
     "metadata": {},
     "output_type": "display_data"
    }
   ],
   "source": [
    "plt.plot(Zeitliste, Entfernungsliste)"
   ]
  },
  {
   "cell_type": "markdown",
   "metadata": {},
   "source": [
    "Um dieses Diagramm verständlicher zu machen, werden wir\n",
    "1. Achsenbschriftungen hinzufügen\n",
    "2. Die Datenpunkte als Punkte darstellen"
   ]
  },
  {
   "cell_type": "code",
   "execution_count": 21,
   "metadata": {},
   "outputs": [
    {
     "data": {
      "text/plain": [
       "Text(0, 0.5, 'Entfernung (m)')"
      ]
     },
     "execution_count": 21,
     "metadata": {},
     "output_type": "execute_result"
    },
    {
     "data": {
      "image/png": "[encoded data removed]",
      "text/plain": [
       "<Figure size 640x480 with 1 Axes>"
      ]
     },
     "metadata": {},
     "output_type": "display_data"
    }
   ],
   "source": [
    "plt.plot(Zeitliste, Entfernungsliste, 'o')\n",
    "plt.xlabel('Zeit (s)')\n",
    "plt.ylabel('Entfernung (m)')"
   ]
  },
  {
   "cell_type": "markdown",
   "metadata": {},
   "source": [
    "Im Grundpraktikum sollen Diagramme oft mit Fehlerbalken angegeben werden. Hierzu verwenden wir die Funktion `plt.errorbar`"
   ]
  },
  {
   "cell_type": "code",
   "execution_count": 22,
   "metadata": {},
   "outputs": [
    {
     "data": {
      "text/plain": [
       "Text(0, 0.5, 'Entfernung (m)')"
      ]
     },
     "execution_count": 22,
     "metadata": {},
     "output_type": "execute_result"
    },
    {
     "data": {
      "image/png": "[encoded data removed]",
      "text/plain": [
       "<Figure size 640x480 with 1 Axes>"
      ]
     },
     "metadata": {},
     "output_type": "display_data"
    }
   ],
   "source": [
    "Unsicherheitsliste = np.array([0.1,0.1,0.1,0.1,0.1,0.1])\n",
    "plt.errorbar(Zeitliste, Entfernungsliste, yerr=Unsicherheitsliste, fmt='o')\n",
    "plt.xlabel('Zeit (s)')\n",
    "plt.ylabel('Entfernung (m)')"
   ]
  },
  {
   "cell_type": "markdown",
   "metadata": {},
   "source": [
    "Die Grafik kann mit de Funktion `plt.savefig` als PDF Datei gespeichert werden. Beachte, dass der Funktionsaufruf in der gleichen Zelle wie das Erstellen der Grafik erfolgen muss:"
   ]
  },
  {
   "cell_type": "code",
   "execution_count": 23,
   "metadata": {},
   "outputs": [
    {
     "data": {
      "image/png": "[encoded data removed]",
      "text/plain": [
       "<Figure size 640x480 with 1 Axes>"
      ]
     },
     "metadata": {},
     "output_type": "display_data"
    }
   ],
   "source": [
    "Unsicherheitsliste = np.array([0.1,0.1,0.1,0.1,0.1,0.1])\n",
    "plt.errorbar(Zeitliste, Entfernungsliste, yerr=Unsicherheitsliste, fmt='o')\n",
    "plt.xlabel('Zeit (s)')\n",
    "plt.ylabel('Entfernung (m)')\n",
    "plt.savefig('BeispielGrafik.pdf')"
   ]
  }
 ],
 "metadata": {
  "kernelspec": {
   "display_name": "Python 3 (ipykernel)",
   "language": "python",
   "name": "python3"
  },
  "language_info": {
   "codemirror_mode": {
    "name": "ipython",
    "version": 3
   },
   "file_extension": ".py",
   "mimetype": "text/x-python",
   "name": "python",
   "nbconvert_exporter": "python",
   "pygments_lexer": "ipython3",
   "version": "3.13.1"
  }
 },
 "nbformat": 4,
 "nbformat_minor": 4
}

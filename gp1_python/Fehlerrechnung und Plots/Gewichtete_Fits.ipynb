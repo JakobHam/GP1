{
 "cells": [
  {
   "cell_type": "markdown",
   "id": "911f8b19-bee2-465f-a2eb-fa6b9a4b2311",
   "metadata": {},
   "source": [
    "## Anpassen von Funktionen und Daten mit Unsicherheit\n",
    "\n",
    "Wir betrachten hier das Anpassen von Funktionen and Daten, bei denen die y-Daten fehlerbehaftet sind."
   ]
  },
  {
   "cell_type": "code",
   "execution_count": 1,
   "id": "4add53db-228a-4454-9dc3-ba6a6808eca1",
   "metadata": {
    "jupyter": {
     "source_hidden": true
    }
   },
   "outputs": [],
   "source": [
    "import numpy as np\n",
    "import matplotlib.pyplot as plt\n",
    "import scipy"
   ]
  },
  {
   "cell_type": "code",
   "execution_count": 2,
   "id": "4aa7ef75-d940-4ed8-a40b-6472145e2039",
   "metadata": {},
   "outputs": [],
   "source": [
    "position = np.array([10, 14, 23, 40, 46, 58, 63, 73, 98, 110])\n",
    "potential = np.array([0.53, 0.67, 0.94, 1.27, 0.95, 1.49, 2.06, 2.30, 2.85, 3.06])\n",
    "delta = np.array([0.05, 0.05, 0.05, 0.15, 0.05, 0.15, 0.15, 0.15, 0.15, 0.15]) "
   ]
  },
  {
   "cell_type": "markdown",
   "id": "e57246a1-e56e-42d9-88ff-f95073d3b731",
   "metadata": {},
   "source": [
    "### Anapssen mittels Polygonfit\n",
    "\n",
    "Die Funktion `np.polyfit(x,y,deg=1,w=weights)` passt ein Polygon ersten Grades (also eine Gerade) an die Daten an.\n",
    "\n",
    "Die Unsicherheiten werden hier als Vektor von sogenannten *Gewichte* (Weights) an die Funktion übergeben. Anschaulich bedeutet dies, dass ein Datenpunkt mit **kleinerer** Unsicherheit ein **höheres** Gewicht hat.\n",
    "\n",
    "In der Literatur wird als Gewichtung normalerweise die Inverse der Varianz verwendet. [Weiterführender Link](https://de.wikipedia.org/wiki/Verallgemeinerte_Kleinste-Quadrate-Sch%C3%A4tzung#Gewichtete_kleinste_Quadrate_(GKQ)\n",
    "\n",
    "Die Python Funktion `np.polyfit` verwendet eine andere Konvention der Gewichte: Die Gewichte sind die Inverse der Standardabweichung.\n",
    "\n",
    "$$W = \\frac{1}{\\delta}$$"
   ]
  },
  {
   "cell_type": "code",
   "execution_count": 3,
   "id": "13e889be-6c7c-489c-bda6-234f31c758cf",
   "metadata": {},
   "outputs": [
    {
     "name": "stdout",
     "output_type": "stream",
     "text": [
      "Fitparameter: a=0.289, b=0.022\n",
      "Unsicherheiten: sigma_a=0.124, sigma_b=0.003\n"
     ]
    }
   ],
   "source": [
    "weights = 1 / delta\n",
    "params, cov_mat = np.polyfit(position, potential, deg=1, w=weights, cov=True)\n",
    "print(f'Fitparameter: a={params[1]:.3f}, b={params[0]:.3f}')\n",
    "print(f'Unsicherheiten: sigma_a={np.sqrt(cov_mat[1,1]):.3f}, sigma_b={np.sqrt(cov_mat[0,0]):.3f}')"
   ]
  },
  {
   "cell_type": "markdown",
   "id": "78e9bdea-991c-45aa-9bdc-b30a45bc9f01",
   "metadata": {},
   "source": [
    "### Anpassen mittels curve_fit\n",
    "\n",
    "Das python Paket `scipy` stellt die Funktion `scipy.optimize.curve_fit(model, x, y, sigma=sigma)` zur Verfügung.\n",
    "\n",
    "Mit dieser Routinge kann eine allgemeine Funktion, die mittels `model` definiert ist, anpassen. Hier wird statt den Gewichten die Standardabweichung mittels des Parameters `sigma` übergeben.\n",
    "\n"
   ]
  },
  {
   "cell_type": "code",
   "execution_count": 4,
   "id": "1a55ec81-e36f-4061-a68d-530802f9ae03",
   "metadata": {},
   "outputs": [
    {
     "name": "stdout",
     "output_type": "stream",
     "text": [
      "Fitparameter: a=0.289, b=0.022\n",
      "Unsicherheiten: sigma_a=0.124, sigma_b=0.003\n"
     ]
    }
   ],
   "source": [
    "def linear_model(x, a, b):\n",
    "    return a * x + b \n",
    "\n",
    "params_curve_fit, cov_curve_fit = scipy.optimize.curve_fit(linear_model, position, potential, sigma=delta)\n",
    "print(f'Fitparameter: a={params_curve_fit[1]:.3f}, b={params_curve_fit[0]:.3f}')\n",
    "print(f'Unsicherheiten: sigma_a={np.sqrt(cov_curve_fit[1,1]):.3f}, sigma_b={np.sqrt(cov_curve_fit[0,0]):.3f}')"
   ]
  },
  {
   "cell_type": "markdown",
   "id": "9ab1832c-427b-4536-adba-f43f37d8066d",
   "metadata": {},
   "source": [
    "### Anmerkungen\n",
    "\n",
    "Abschließend soll gesagt werden, dass eine mathematisch korrekte Behandlung von Unsicherheiten weit über die Inhalte des Grundpraktikums hinausgeht. Zum Beispiel hängen die mit obigen Methoden erhaltenen Unsicherheiten der Parameter nur von der relativen Unsicherheit der Daten ab. Wenn die Unsicherheiten der Daten mit einem konstanten Faktor multipliziert werden, ändert sich an dern Resultaten nichts:"
   ]
  },
  {
   "cell_type": "code",
   "execution_count": 5,
   "id": "2b731878-f64c-423c-b30f-9f7e33516951",
   "metadata": {},
   "outputs": [
    {
     "name": "stdout",
     "output_type": "stream",
     "text": [
      "Fitparameter 10 faches sigma_y: a=0.289, b=0.022\n",
      "Unsicherheiten 10 faches sigma_y: sigma_a=0.124, sigma_b=0.003\n"
     ]
    }
   ],
   "source": [
    "new_weights = 10 *weights\n",
    "params, cov_mat = np.polyfit(position, potential, deg=1, w=new_weights, cov=True)\n",
    "print(f'Fitparameter 10 faches sigma_y: a={params[1]:.3f}, b={params[0]:.3f}')\n",
    "print(f'Unsicherheiten 10 faches sigma_y: sigma_a={np.sqrt(cov_mat[1,1]):.3f}, sigma_b={np.sqrt(cov_mat[0,0]):.3f}')"
   ]
  },
  {
   "cell_type": "code",
   "execution_count": 6,
   "id": "addfa83e-1226-4ac0-bb5f-b31779dc3b43",
   "metadata": {},
   "outputs": [
    {
     "name": "stdout",
     "output_type": "stream",
     "text": [
      "Fitparameter 10 faches sigma_y: a=0.289, b=0.022\n",
      "Unsicherheiten 10 faches sigma_y: sigma_a=0.124, sigma_b=0.003\n"
     ]
    }
   ],
   "source": [
    "params_curve_fit, cov_curve_fit = scipy.optimize.curve_fit(linear_model, position, potential, sigma=10*delta)\n",
    "print(f'Fitparameter 10 faches sigma_y: a={params_curve_fit[1]:.3f}, b={params_curve_fit[0]:.3f}')\n",
    "print(f'Unsicherheiten 10 faches sigma_y: sigma_a={np.sqrt(cov_curve_fit[1,1]):.3f}, sigma_b={np.sqrt(cov_curve_fit[0,0]):.3f}')"
   ]
  },
  {
   "cell_type": "markdown",
   "id": "502ededd-f575-47b0-9aa2-9bf8bc1202cd",
   "metadata": {},
   "source": [
    "Die Funktion `curve_fit` kann absolute Unsicherheiten mittels des Parameters `absolute_sigma=True` berücksichtigen:"
   ]
  },
  {
   "cell_type": "code",
   "execution_count": 7,
   "id": "5b4bc868-6ef1-49a0-90b7-b6d5c5ca3c00",
   "metadata": {},
   "outputs": [
    {
     "name": "stdout",
     "output_type": "stream",
     "text": [
      "Fitparameter 10 faches sigma_y absolut: a=0.289, b=0.022\n",
      "Unsicherheiten 10 faches sigma_y absolut: sigma_a=0.377, sigma_b=0.010\n"
     ]
    }
   ],
   "source": [
    "params_curve_fit, cov_curve_fit = scipy.optimize.curve_fit(linear_model, position, potential, sigma=10*delta, absolute_sigma=True)\n",
    "print(f'Fitparameter 10 faches sigma_y absolut: a={params_curve_fit[1]:.3f}, b={params_curve_fit[0]:.3f}')\n",
    "print(f'Unsicherheiten 10 faches sigma_y absolut: sigma_a={np.sqrt(cov_curve_fit[1,1]):.3f}, sigma_b={np.sqrt(cov_curve_fit[0,0]):.3f}')"
   ]
  }
 ],
 "metadata": {
  "kernelspec": {
   "display_name": "Python 3 (ipykernel)",
   "language": "python",
   "name": "python3"
  },
  "language_info": {
   "codemirror_mode": {
    "name": "ipython",
    "version": 3
   },
   "file_extension": ".py",
   "mimetype": "text/x-python",
   "name": "python",
   "nbconvert_exporter": "python",
   "pygments_lexer": "ipython3",
   "version": "3.13.1"
  }
 },
 "nbformat": 4,
 "nbformat_minor": 5
}

{
 "cells": [
  {
   "attachments": {},
   "cell_type": "markdown",
   "id": "9b24618d-c3ec-42c8-8e11-7d12934f334d",
   "metadata": {},
   "source": [
    "# Python Beispiel für Anpassung an eine Kurve (Fitting)\n",
    "\n",
    "Dieses Notizbuch enthält ein Beispiel für die Darstellung und Anpassung von Daten im Grundpraktikum. Für eine grundlegende Einführung in Python selbst und weitere Details zum Fitten, Plotten und Laden von Daten gibt es ein weiteres Notizbuch namens Einführung_in_python.ipynb\n",
    "\n",
    "\n",
    "Um diesen Code auszuführen, öffnen Sie ihn in JupyterLab und drücken Sie die Schaltfläche Kernel neu starten und alle Zellen ausführen. Sie können auch einzelne Zellen ausführen, indem Sie Shift+Enter drücken\n",
    "\n",
    "Ein Einführungsvideo zu JupyterLab finden Sie hier: https://www.youtube.com/watch?v=A5YyoCKxEOU\n"
   ]
  },
  {
   "cell_type": "markdown",
   "id": "4eb630e4-3139-42d6-90c2-1a02ef64b272",
   "metadata": {},
   "source": [
    "# Numpy und grafische Darstellung\n",
    "\n",
    "Wir werden hauptsächlich mit dem `numpy`-Paket für numerische Berechnungen und dem `matplotlib`-Paket für die grafische Darstellung arbeiten. Beide sind auf dem OLAT Jupyterhub vorinstalliert. Wir können diese Pakete mit den folgenden Import-Anweisungen laden:"
   ]
  },
  {
   "cell_type": "code",
   "execution_count": 1,
   "id": "5360b32c-0498-4645-b9db-9e5ea4d343a0",
   "metadata": {},
   "outputs": [],
   "source": [
    "import numpy as np\n",
    "import matplotlib.pyplot as plt\n",
    "import scipy.constants as const"
   ]
  },
  {
   "cell_type": "markdown",
   "id": "2fb28c4e-7812-4896-b2ff-115219707704",
   "metadata": {},
   "source": [
    "Der Datentyp in Numpy, der einen Vektor oder eine Matrix entspricht, ist `np.array`. Wir können Array-Variablen wie unten gezeigt erzeugen. \n",
    "\n",
    "- Die Standardoperationen sind elementweise, also multipliziert `x*y` zwei np.array-Variablen elementweise und ist keine Matrixmultiplikation!\n",
    "- In Python ist der Potenzoperator `**`, also ist das Quadrat der Variablen `x` ist dann `x**2`.\n",
    "\n",
    "Hier erzeugen wir Variablen mit einigen 'gemessenen' Daten `x`, `y` und der Ungenauigkeit `y_err`. Aus der Unsicherheit berechnen wir die sogenannten „Gewichte“, die für Anpassungsroutinen verwendet werden. "
   ]
  },
  {
   "cell_type": "code",
   "execution_count": 2,
   "id": "1f56a036-5d85-4d25-9e08-2edf790839a0",
   "metadata": {},
   "outputs": [],
   "source": [
    "x = np.array([ 1.0, 2.0, 3.0, 4.0, 5.0, 6.0, 7.0, 8.0, 9.0,10.0 ])\n",
    "y = np.array([ 5.5, 7.3, 10.3, 12.3, 12.7, 18.1, 23.3, 25.0, 36.0, 31.3])\n",
    "y_err=1.5*np.array([1, 1, 1, 1, 1, 1, 1, 1, 1, 1]) #uncertainties in period values (one standard deviation) \n",
    "weights=1/(y_err) #conversion to the 'weights' that Python uses for fitting. Python uses weighted least-square fitting https://en.wikipedia.org/wiki/Weighted_least_squares\n",
    "# The np.polyfit function uses a non standard definition of the weights: weights = 1/sigma (Usually the weights are defined as the squares of this)\n"
   ]
  },
  {
   "cell_type": "markdown",
   "id": "4180c4ea-35c7-4349-b103-b3d799b11ddd",
   "metadata": {},
   "source": [
    "Wir können die Daten mit der Funktion `plt.plot` darstellen.\n",
    "\n",
    "- Fehlerbalken können mit der Funktion `plt.errorbar` dargestellt werden.\n",
    "- Wir können die Linie mit `linestyle='none'` entfernen\n",
    "- Die Markierung kann mit `marker='d'` auf Diamant gesetzt werden."
   ]
  },
  {
   "cell_type": "code",
   "execution_count": 3,
   "id": "e0b150f7-6f58-4b59-9e41-757f0e9f2596",
   "metadata": {},
   "outputs": [
    {
     "data": {
      "text/plain": [
       "Text(0, 0.5, 'Spannung ($\\\\mu$V)')"
      ]
     },
     "execution_count": 3,
     "metadata": {},
     "output_type": "execute_result"
    },
    {
     "data": {
      "image/png": "[encoded data removed]",
      "text/plain": [
       "<Figure size 640x480 with 1 Axes>"
      ]
     },
     "metadata": {},
     "output_type": "display_data"
    }
   ],
   "source": [
    "plt.errorbar(x,y,yerr=y_err,marker='d',linestyle='none')\n",
    "plt.xlabel('Zeit (s)')\n",
    "plt.ylabel('Spannung ($\\\\mu$V)')"
   ]
  },
  {
   "cell_type": "markdown",
   "id": "2fdd3550-10f8-4717-9637-e1d20a4dc4e3",
   "metadata": {},
   "source": [
    "# Anpassung con Daten an eine Funktion\n",
    "\n",
    "Mit der Funktion `np.polyfit` können wir ein Polynom mit einem bestimmten Grad an die Daten anpassen. Der Funktionsparameter, der den Grad des Polynom angibt ist `deg`.\n",
    "\n",
    "Die Dokumentation für die polyfit-Funktion: https://numpy.org/doc/2.0/reference/generated/numpy.polyfit.html\n",
    "\n",
    "Die Anpassung liefert die optimalen Parameter, die wir in der Variablen `params` und die Kovarianzmatrix in der Variablen `cov_mat` speichern. Wie wir sehen werden, kann mittels der Kovarianzmatrix die Unsicherheit der angepassten Parameters ermittelt werden."
   ]
  },
  {
   "cell_type": "code",
   "execution_count": 4,
   "id": "f63ed052-e0de-412d-a512-9967b2aa217d",
   "metadata": {},
   "outputs": [],
   "source": [
    "params, cov_mat = np.polyfit(x,y,deg=1,w=weights,cov=True)"
   ]
  },
  {
   "cell_type": "markdown",
   "id": "75b036be-d08b-4d81-bb7d-9650567d98a2",
   "metadata": {},
   "source": [
    "Die angepassten Parameter des Polygons befinden sich dann in der Liste `params`. Wir können auf sie mit `params[i]` zugreifen. Bei der Anpassung an eine lineare Funktion $f(x) = a + b \\cdot x$ entspricht `params[1]` $a$ und `params[0]` entspricht $b$."
   ]
  },
  {
   "cell_type": "code",
   "execution_count": 5,
   "id": "5dcddf14-eae0-46fe-9e55-5399e506dfe1",
   "metadata": {},
   "outputs": [
    {
     "name": "stdout",
     "output_type": "stream",
     "text": [
      "Fit result: a:0.013 and b:3.303\n"
     ]
    }
   ],
   "source": [
    "a = params[1]\n",
    "b = params[0]\n",
    "print(f'Fit result: a:{a:.3f} and b:{b:.3f}')"
   ]
  },
  {
   "cell_type": "markdown",
   "id": "436412cf-9efc-42d4-ba03-93f4f8177e6a",
   "metadata": {},
   "source": [
    "Die Unsicherheit der angepassten Parameter ist durch die *Kovarianzmatrix* gegeben, die in der Variablen `cov_mat` gespeichert ist. Für das Grundpraktikum I können wir alle Korrelationen zwischen den Parametern ignorieren, so dass die Unsicherheit die Quadratwurzel aus den Diagonaleinträgen der Kovarianzmatrix ist."
   ]
  },
  {
   "cell_type": "code",
   "execution_count": 6,
   "id": "2a363505-8b4d-4976-8aca-8ef61f64c990",
   "metadata": {},
   "outputs": [
    {
     "name": "stdout",
     "output_type": "stream",
     "text": [
      "Fit result: a:0.013 ± 1.995 and b:3.303 ± 0.321\n"
     ]
    }
   ],
   "source": [
    "sigma_a = np.sqrt(cov_mat[1,1])\n",
    "sigma_b = np.sqrt(cov_mat[0,0])\n",
    "\n",
    "print(f'Fit result: a:{a:.3f} ± {sigma_a:.3f} and b:{b:.3f} ± {sigma_b:.3f}')"
   ]
  },
  {
   "cell_type": "markdown",
   "id": "fc4d0995-8f85-41a4-868c-0cfe53e781bb",
   "metadata": {},
   "source": [
    "Um die Funktion mit den angepassten Parametern darzustellen, müssen wir einen neuen Datensatz für die $x$ und $y$ Werte erzeugen. Generell will man für die Darstellung der Funktion mehr Werte auf der $x$ Achse verwednen, als im urpsrünglichen Datensatz sind. Deshalb erzeugen wir mit der Funktion „np.linspace“ ein mehrere x-Werte erzeugen.\n",
    "\n",
    "Die Dokumentation für die Linspace-Funktion: https://numpy.org/doc/stable/reference/generated/numpy.linspace.html\n",
    "\n",
    "Die $y$ Werte der angepassten Funktion können nun mithilfe der Funktion `np.polyval` erzeugt werden. Diese Funktion berechnet das Polynom, dass durch die Variable `params` gegeben wird, für alle erzeugten `x` Werte."
   ]
  },
  {
   "cell_type": "code",
   "execution_count": 7,
   "id": "fa5b8d7f-e878-476c-a853-3298bf217e6f",
   "metadata": {},
   "outputs": [],
   "source": [
    "x_fine = np.linspace(0,10,num=100)\n",
    "y_fit = np.polyval(params, x_fine)"
   ]
  },
  {
   "cell_type": "markdown",
   "id": "3a9fc664-c541-49ae-b4a4-bd99d7d388ea",
   "metadata": {},
   "source": [
    "Wir können dann die Anpassung und die Originaldaten in derselben Abbildung darstellen. Die Darstellung kann mit „plt.savefig“ in eine PDF-Datei gespeichert werden."
   ]
  },
  {
   "cell_type": "code",
   "execution_count": 8,
   "id": "e7cbfc85-334c-484c-8068-ab898f7d3885",
   "metadata": {},
   "outputs": [
    {
     "data": {
      "image/png": "[encoded data removed]",
      "text/plain": [
       "<Figure size 640x480 with 1 Axes>"
      ]
     },
     "metadata": {},
     "output_type": "display_data"
    }
   ],
   "source": [
    "plt.errorbar(x,y,yerr=y_err,marker='d', linestyle='none')\n",
    "plt.plot(x_fine, y_fit)\n",
    "plt.xlabel('Zeit (s)')\n",
    "plt.ylabel('Spannung ($\\\\mu$V)')\n",
    "plt.savefig('linear_fit.pdf')"
   ]
  },
  {
   "cell_type": "markdown",
   "id": "dad23041-4c34-4b96-ad91-2b47aa3662e8",
   "metadata": {},
   "source": [
    "## Anmerkung: Anpassung beliebiger Funktionen\n",
    "\n",
    "Um eine beliebige Funktion (kein Polynom) anzupassen, kann die Funktion `curve_fit` aus dem Paket `scipy.optimize` verwendet werden. \n",
    "\n",
    "Dokumentation für curve_fit: https://docs.scipy.org/doc/scipy/reference/generated/scipy.optimize.curve_fit.html\n",
    "\n",
    "Hier ist ein Beispiel für die Verwendung von `curve_fit`, um eine lineare Anpassung zu erstellen. \n",
    "\n",
    "\n",
    "1. Importieren Sie die Funktion curve_fit\n",
    "\n",
    "2. Definieren Sie die Anpassungsfunktion `func`.\n",
    "\n",
    "3. Definieren Sie die Anfangswerte\n",
    "\n",
    "4. Durchführen der Anpassung\n",
    "\n",
    "\n",
    "Dieses Verfahren kann an komplexere Funktionen, wie Sinus oder Exponential angepasst werden"
   ]
  },
  {
   "cell_type": "code",
   "execution_count": 9,
   "id": "321429dd-73b0-428a-8aab-73adeabfcf0a",
   "metadata": {},
   "outputs": [
    {
     "name": "stdout",
     "output_type": "stream",
     "text": [
      "[3.30303025 0.01333376]\n"
     ]
    }
   ],
   "source": [
    "from scipy.optimize import curve_fit\n",
    "\n",
    "def func(x, a, b): \n",
    "    c = 1 * b   \n",
    "    return a * x + c\n",
    "\n",
    "InitialValues = [1,0]\n",
    "OptimalValues, CovarianceMatrix = curve_fit(func,x,y,sigma=y_err, p0 = InitialValues)\n",
    "print(OptimalValues)"
   ]
  }
 ],
 "metadata": {
  "kernelspec": {
   "display_name": "Python 3 (ipykernel)",
   "language": "python",
   "name": "python3"
  },
  "language_info": {
   "codemirror_mode": {
    "name": "ipython",
    "version": 3
   },
   "file_extension": ".py",
   "mimetype": "text/x-python",
   "name": "python",
   "nbconvert_exporter": "python",
   "pygments_lexer": "ipython3",
   "version": "3.13.1"
  }
 },
 "nbformat": 4,
 "nbformat_minor": 5
}

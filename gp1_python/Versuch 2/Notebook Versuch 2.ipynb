{
 "cells": [
  {
   "cell_type": "markdown",
   "id": "fe644218-fb33-4b6d-8eec-2001cb1e9fa2",
   "metadata": {},
   "source": [
    "# Versuch 2\n",
    "\n",
    "Bei diesem Versuch ist keine Grafik und kein Fit notwendig. Jedoch kann Python verwendet werden, um den Mittelwert und die Standardabweichung von einer Messerie auszurechnen:"
   ]
  },
  {
   "cell_type": "code",
   "execution_count": 1,
   "id": "e1c0987e-6954-4812-97bc-586a2a988a16",
   "metadata": {},
   "outputs": [],
   "source": [
    "import numpy as np\n",
    "import matplotlib.pyplot as plt\n",
    "import scipy.constants as const"
   ]
  },
  {
   "cell_type": "code",
   "execution_count": 2,
   "id": "57d05f8a-7e44-4fca-9e0d-d6b0cb589462",
   "metadata": {},
   "outputs": [],
   "source": [
    "# Hier Messdaten eingeben:\n",
    "array_messung = np.array([10.5, 10.0, 10.9, 9.5 ,11.3])"
   ]
  },
  {
   "cell_type": "code",
   "execution_count": 3,
   "id": "70b0197a-6e97-4dcb-ace2-00080405551a",
   "metadata": {},
   "outputs": [
    {
     "name": "stdout",
     "output_type": "stream",
     "text": [
      "Mittelwert: 10.440000000000001\n",
      "Standardabweichung: 0.6374950980203693\n"
     ]
    }
   ],
   "source": [
    "std_messung = array_messung.std()\n",
    "mean_messung = array_messung.mean()\n",
    "\n",
    "print('Mittelwert: ' + str(mean_messung))\n",
    "print('Standardabweichung: ' + str(std_messung))"
   ]
  }
 ],
 "metadata": {
  "kernelspec": {
   "display_name": "Python 3 (ipykernel)",
   "language": "python",
   "name": "python3"
  },
  "language_info": {
   "codemirror_mode": {
    "name": "ipython",
    "version": 3
   },
   "file_extension": ".py",
   "mimetype": "text/x-python",
   "name": "python",
   "nbconvert_exporter": "python",
   "pygments_lexer": "ipython3",
   "version": "3.13.1"
  }
 },
 "nbformat": 4,
 "nbformat_minor": 5
}

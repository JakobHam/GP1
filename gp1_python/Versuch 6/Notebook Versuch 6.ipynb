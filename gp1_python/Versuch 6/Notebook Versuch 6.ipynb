{
 "cells": [
  {
   "cell_type": "markdown",
   "id": "bf799271-0664-4efc-aac5-8b1885e7bdfb",
   "metadata": {},
   "source": [
    "# Versuch 6\n",
    "\n",
    "Hier soll ein linearer Fit durchgeführt werden, siehe Versuch 3"
   ]
  },
  {
   "cell_type": "code",
   "execution_count": null,
   "id": "6af15534-4cd9-43f5-b8b6-7e9e1105d2b3",
   "metadata": {},
   "outputs": [],
   "source": [
    "import numpy as np\n",
    "import matplotlib.pyplot as plt\n",
    "import scipy.constants as const"
   ]
  },
  {
   "cell_type": "code",
   "execution_count": null,
   "id": "230bfa64-039f-42b0-8c97-995eb7577208",
   "metadata": {},
   "outputs": [],
   "source": []
  },
  {
   "cell_type": "code",
   "execution_count": null,
   "id": "1c5d8451-4881-48fd-94a6-786518973b30",
   "metadata": {},
   "outputs": [],
   "source": []
  }
 ],
 "metadata": {
  "kernelspec": {
   "display_name": "Python 3 (ipykernel)",
   "language": "python",
   "name": "python3"
  },
  "language_info": {
   "codemirror_mode": {
    "name": "ipython",
    "version": 3
   },
   "file_extension": ".py",
   "mimetype": "text/x-python",
   "name": "python",
   "nbconvert_exporter": "python",
   "pygments_lexer": "ipython3",
   "version": "3.13.1"
  }
 },
 "nbformat": 4,
 "nbformat_minor": 5
}
